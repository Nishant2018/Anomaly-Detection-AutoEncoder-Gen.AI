{
 "cells": [
  {
   "cell_type": "markdown",
   "id": "3366242a",
   "metadata": {
    "papermill": {
     "duration": 0.006764,
     "end_time": "2024-07-04T18:44:29.144598",
     "exception": false,
     "start_time": "2024-07-04T18:44:29.137834",
     "status": "completed"
    },
    "tags": []
   },
   "source": [
    "<div class=\"text_cell_render border-box-sizing rendered_html\">\n",
    "<div style=\"color:black; border: 2px solid #6f42c1; background-color:#f3e8ff; padding: 20px; border-radius: 15px; font-size: 200%; font-family: 'Segoe UI', Tahoma, Geneva, Verdana, sans-serif; text-align:center; text-shadow: 2px 2px 4px rgba(0, 0, 0, 0.7);\">🔥 Anomaly Detection AutoEncoder || Generative-AI🔥</div>\n",
    "</div>"
   ]
  },
  {
   "cell_type": "markdown",
   "id": "449ff8bb",
   "metadata": {
    "papermill": {
     "duration": 0.005883,
     "end_time": "2024-07-04T18:44:29.156945",
     "exception": false,
     "start_time": "2024-07-04T18:44:29.151062",
     "status": "completed"
    },
    "tags": []
   },
   "source": [
    "![](https://sematext.com/wp-content/uploads/2023/03/Anomaly-detection.png)"
   ]
  },
  {
   "cell_type": "markdown",
   "id": "5858f467",
   "metadata": {
    "papermill": {
     "duration": 0.006038,
     "end_time": "2024-07-04T18:44:29.169063",
     "exception": false,
     "start_time": "2024-07-04T18:44:29.163025",
     "status": "completed"
    },
    "tags": []
   },
   "source": [
    "Here are some detailed points about anomaly detection:\n",
    "\n",
    "1. **Definition**: Anomaly detection, also known as outlier detection, is the process of identifying data points or patterns in a dataset that do not conform to the expected behavior or normal trends. These anomalies are often interesting or critical because they may indicate potential issues, outliers, or unexpected events.\n",
    "\n",
    "2. **Applications**:\n",
    "   - **Fraud Detection**: Identifying unusual transactions or activities that deviate from typical spending patterns.\n",
    "   - **Cybersecurity**: Detecting unusual network traffic or behavior that could indicate a security breach.\n",
    "   - **Healthcare**: Identifying abnormal medical readings or patient records that may signal health problems.\n",
    "   - **Industrial Systems**: Monitoring equipment sensors to detect anomalies that could lead to failures or accidents.\n",
    "   - **Quality Control**: Detecting defects or irregularities in manufacturing processes.\n",
    "   - **Financial Market Monitoring**: Detecting unusual trading activities that may indicate market manipulation.\n",
    "\n",
    "3. **Methods and Techniques**:\n",
    "   - **Statistical Methods**: Such as z-score analysis, which measures how many standard deviations a data point is away from the mean.\n",
    "   - **Machine Learning**: Using supervised or unsupervised learning techniques, including clustering algorithms (like k-means) or classification algorithms (like isolation forests or one-class SVMs).\n",
    "   - **Deep Learning**: Utilizing neural networks for anomaly detection, such as autoencoders that learn to reconstruct normal patterns and detect deviations.\n",
    "\n",
    "4. **Challenges**:\n",
    "   - **Imbalanced Data**: Anomalies are often rare compared to normal data, making it challenging to train models effectively.\n",
    "   - **Adaptability**: Anomalies can evolve over time, requiring adaptive models that can learn and update in real-time.\n",
    "   - **Interpretability**: Understanding why a model flags a particular instance as anomalous can be crucial for decision-making.\n",
    "\n",
    "5. **Evaluation**:\n",
    "   - **True Positive Rate**: The ability of the model to correctly identify anomalies.\n",
    "   - **False Positive Rate**: The rate at which normal instances are incorrectly flagged as anomalies.\n",
    "   - **Precision and Recall**: Measures of the model's accuracy in identifying anomalies while minimizing false alarms.\n",
    "\n",
    "6. **Benefits**:\n",
    "   - Early detection of anomalies can prevent fraud, system failures, and other critical issues.\n",
    "   - Improves operational efficiency by focusing resources on areas that need attention.\n",
    "   - Enhances security by proactively identifying and mitigating potential threats.\n",
    "\n",
    "7. **Future Directions**:\n",
    "   - Integration with real-time streaming data for continuous monitoring.\n",
    "   - Advancements in explainable AI to enhance model transparency and trust.\n",
    "   - Application in emerging fields such as Internet of Things (IoT) for predictive maintenance and anomaly detection.\n",
    "\n",
    "Anomaly detection plays a crucial role across various domains, offering insights and safeguards against unexpected events and deviations from normal behavior."
   ]
  },
  {
   "cell_type": "markdown",
   "id": "da3208df",
   "metadata": {
    "papermill": {
     "duration": 0.005693,
     "end_time": "2024-07-04T18:44:29.180692",
     "exception": false,
     "start_time": "2024-07-04T18:44:29.174999",
     "status": "completed"
    },
    "tags": []
   },
   "source": [
    "<div class=\"text_cell_render border-box-sizing rendered_html\">\n",
    "<div style=\"color:black; border: 2px solid #6f42c1; background-color:#f3e8ff; padding: 20px; border-radius: 15px; font-size: 200%; font-family: 'Segoe UI', Tahoma, Geneva, Verdana, sans-serif; text-align:center; text-shadow: 2px 2px 4px rgba(0, 0, 0, 0.7);\">📚 Importing Libraries 📚</div>\n",
    "</div>"
   ]
  },
  {
   "cell_type": "code",
   "execution_count": 1,
   "id": "90189855",
   "metadata": {
    "execution": {
     "iopub.execute_input": "2024-07-04T18:44:29.194868Z",
     "iopub.status.busy": "2024-07-04T18:44:29.194108Z",
     "iopub.status.idle": "2024-07-04T18:44:44.571134Z",
     "shell.execute_reply": "2024-07-04T18:44:44.570093Z"
    },
    "papermill": {
     "duration": 15.387156,
     "end_time": "2024-07-04T18:44:44.573895",
     "exception": false,
     "start_time": "2024-07-04T18:44:29.186739",
     "status": "completed"
    },
    "tags": []
   },
   "outputs": [
    {
     "name": "stderr",
     "output_type": "stream",
     "text": [
      "2024-07-04 18:44:31.608138: E external/local_xla/xla/stream_executor/cuda/cuda_dnn.cc:9261] Unable to register cuDNN factory: Attempting to register factory for plugin cuDNN when one has already been registered\n",
      "2024-07-04 18:44:31.608266: E external/local_xla/xla/stream_executor/cuda/cuda_fft.cc:607] Unable to register cuFFT factory: Attempting to register factory for plugin cuFFT when one has already been registered\n",
      "2024-07-04 18:44:31.777036: E external/local_xla/xla/stream_executor/cuda/cuda_blas.cc:1515] Unable to register cuBLAS factory: Attempting to register factory for plugin cuBLAS when one has already been registered\n"
     ]
    }
   ],
   "source": [
    "import numpy as np\n",
    "import tensorflow as tf\n",
    "from tensorflow.keras.layers import Input, Dense, Conv2D, MaxPooling2D, UpSampling2D, Flatten, Reshape\n",
    "from tensorflow.keras.models import Model\n",
    "from tensorflow.keras.datasets import mnist\n",
    "import matplotlib.pyplot as plt"
   ]
  },
  {
   "cell_type": "markdown",
   "id": "93b41f83",
   "metadata": {
    "papermill": {
     "duration": 0.005865,
     "end_time": "2024-07-04T18:44:44.586281",
     "exception": false,
     "start_time": "2024-07-04T18:44:44.580416",
     "status": "completed"
    },
    "tags": []
   },
   "source": [
    "<div class=\"text_cell_render border-box-sizing rendered_html\">\n",
    "<div style=\"color:black; border: 2px solid #6f42c1; background-color:#f3e8ff; padding: 20px; border-radius: 15px; font-size: 200%; font-family: 'Segoe UI', Tahoma, Geneva, Verdana, sans-serif; text-align:center; text-shadow: 2px 2px 4px rgba(0, 0, 0, 0.7);\">🧾Loading Dataset🧾</div>\n",
    "</div>"
   ]
  },
  {
   "cell_type": "code",
   "execution_count": 2,
   "id": "d6e3513f",
   "metadata": {
    "execution": {
     "iopub.execute_input": "2024-07-04T18:44:44.600719Z",
     "iopub.status.busy": "2024-07-04T18:44:44.599603Z",
     "iopub.status.idle": "2024-07-04T18:44:45.075841Z",
     "shell.execute_reply": "2024-07-04T18:44:45.074939Z"
    },
    "papermill": {
     "duration": 0.4861,
     "end_time": "2024-07-04T18:44:45.078494",
     "exception": false,
     "start_time": "2024-07-04T18:44:44.592394",
     "status": "completed"
    },
    "tags": []
   },
   "outputs": [
    {
     "name": "stdout",
     "output_type": "stream",
     "text": [
      "Downloading data from https://storage.googleapis.com/tensorflow/tf-keras-datasets/mnist.npz\n",
      "\u001b[1m11490434/11490434\u001b[0m \u001b[32m━━━━━━━━━━━━━━━━━━━━\u001b[0m\u001b[37m\u001b[0m \u001b[1m0s\u001b[0m 0us/step\n"
     ]
    }
   ],
   "source": [
    "# Load MNIST dataset\n",
    "(x_train, y_train), (x_test, y_test) = mnist.load_data()"
   ]
  },
  {
   "cell_type": "code",
   "execution_count": 3,
   "id": "76072aee",
   "metadata": {
    "execution": {
     "iopub.execute_input": "2024-07-04T18:44:45.093401Z",
     "iopub.status.busy": "2024-07-04T18:44:45.092846Z",
     "iopub.status.idle": "2024-07-04T18:44:45.100768Z",
     "shell.execute_reply": "2024-07-04T18:44:45.099912Z"
    },
    "papermill": {
     "duration": 0.017744,
     "end_time": "2024-07-04T18:44:45.102929",
     "exception": false,
     "start_time": "2024-07-04T18:44:45.085185",
     "status": "completed"
    },
    "tags": []
   },
   "outputs": [],
   "source": [
    "# Use only '1' digit for normal training data\n",
    "normal_class = 1\n",
    "x_train = x_train[y_train == normal_class]\n",
    "x_test = x_test[y_test == normal_class]"
   ]
  },
  {
   "cell_type": "markdown",
   "id": "5302c898",
   "metadata": {
    "papermill": {
     "duration": 0.006455,
     "end_time": "2024-07-04T18:44:45.116089",
     "exception": false,
     "start_time": "2024-07-04T18:44:45.109634",
     "status": "completed"
    },
    "tags": []
   },
   "source": [
    "<div class=\"text_cell_render border-box-sizing rendered_html\">\n",
    "<div style=\"color:black; border: 2px solid #6f42c1; background-color:#f3e8ff; padding: 20px; border-radius: 15px; font-size: 200%; font-family: 'Segoe UI', Tahoma, Geneva, Verdana, sans-serif; text-align:center; text-shadow: 2px 2px 4px rgba(0, 0, 0, 0.7);\">🛠 Normalization 🛠</div>\n",
    "</div>"
   ]
  },
  {
   "cell_type": "code",
   "execution_count": 4,
   "id": "5a68b746",
   "metadata": {
    "execution": {
     "iopub.execute_input": "2024-07-04T18:44:45.130262Z",
     "iopub.status.busy": "2024-07-04T18:44:45.129755Z",
     "iopub.status.idle": "2024-07-04T18:44:45.146305Z",
     "shell.execute_reply": "2024-07-04T18:44:45.145461Z"
    },
    "papermill": {
     "duration": 0.026088,
     "end_time": "2024-07-04T18:44:45.148586",
     "exception": false,
     "start_time": "2024-07-04T18:44:45.122498",
     "status": "completed"
    },
    "tags": []
   },
   "outputs": [],
   "source": [
    "# Normalize data\n",
    "x_train = x_train.astype('float32') / 255.\n",
    "x_test = x_test.astype('float32') / 255."
   ]
  },
  {
   "cell_type": "code",
   "execution_count": 5,
   "id": "3e46e627",
   "metadata": {
    "execution": {
     "iopub.execute_input": "2024-07-04T18:44:45.162903Z",
     "iopub.status.busy": "2024-07-04T18:44:45.162379Z",
     "iopub.status.idle": "2024-07-04T18:44:45.168231Z",
     "shell.execute_reply": "2024-07-04T18:44:45.167517Z"
    },
    "papermill": {
     "duration": 0.015183,
     "end_time": "2024-07-04T18:44:45.170203",
     "exception": false,
     "start_time": "2024-07-04T18:44:45.155020",
     "status": "completed"
    },
    "tags": []
   },
   "outputs": [],
   "source": [
    "x_train = np.reshape(x_train, (len(x_train), 28, 28, 1))\n",
    "x_test = np.reshape(x_test, (len(x_test), 28, 28, 1))"
   ]
  },
  {
   "cell_type": "code",
   "execution_count": 6,
   "id": "41414c45",
   "metadata": {
    "execution": {
     "iopub.execute_input": "2024-07-04T18:44:45.185983Z",
     "iopub.status.busy": "2024-07-04T18:44:45.185233Z",
     "iopub.status.idle": "2024-07-04T18:44:45.201868Z",
     "shell.execute_reply": "2024-07-04T18:44:45.201102Z"
    },
    "papermill": {
     "duration": 0.02656,
     "end_time": "2024-07-04T18:44:45.204189",
     "exception": false,
     "start_time": "2024-07-04T18:44:45.177629",
     "status": "completed"
    },
    "tags": []
   },
   "outputs": [],
   "source": [
    "anomalous_data = np.concatenate([x_test, np.random.rand(1000, 28, 28, 1)])\n",
    "anomalous_labels = np.concatenate([np.zeros(len(x_test)), np.ones(1000)])"
   ]
  },
  {
   "cell_type": "markdown",
   "id": "9d78f881",
   "metadata": {
    "papermill": {
     "duration": 0.006546,
     "end_time": "2024-07-04T18:44:45.217560",
     "exception": false,
     "start_time": "2024-07-04T18:44:45.211014",
     "status": "completed"
    },
    "tags": []
   },
   "source": [
    "<div class=\"text_cell_render border-box-sizing rendered_html\">\n",
    "<div style=\"color:black; border: 2px solid #6f42c1; background-color:#f3e8ff; padding: 20px; border-radius: 15px; font-size: 200%; font-family: 'Segoe UI', Tahoma, Geneva, Verdana, sans-serif; text-align:center; text-shadow: 2px 2px 4px rgba(0, 0, 0, 0.7);\">🔥 Anomaly-Detection AutoEncoder Model 🔥</div>\n",
    "</div>"
   ]
  },
  {
   "cell_type": "code",
   "execution_count": 7,
   "id": "6a2e32e3",
   "metadata": {
    "execution": {
     "iopub.execute_input": "2024-07-04T18:44:45.231874Z",
     "iopub.status.busy": "2024-07-04T18:44:45.231188Z",
     "iopub.status.idle": "2024-07-04T18:44:46.263936Z",
     "shell.execute_reply": "2024-07-04T18:44:46.263034Z"
    },
    "papermill": {
     "duration": 1.042287,
     "end_time": "2024-07-04T18:44:46.266126",
     "exception": false,
     "start_time": "2024-07-04T18:44:45.223839",
     "status": "completed"
    },
    "tags": []
   },
   "outputs": [
    {
     "data": {
      "text/html": [
       "<pre style=\"white-space:pre;overflow-x:auto;line-height:normal;font-family:Menlo,'DejaVu Sans Mono',consolas,'Courier New',monospace\"><span style=\"font-weight: bold\">Model: \"functional_1\"</span>\n",
       "</pre>\n"
      ],
      "text/plain": [
       "\u001b[1mModel: \"functional_1\"\u001b[0m\n"
      ]
     },
     "metadata": {},
     "output_type": "display_data"
    },
    {
     "data": {
      "text/html": [
       "<pre style=\"white-space:pre;overflow-x:auto;line-height:normal;font-family:Menlo,'DejaVu Sans Mono',consolas,'Courier New',monospace\">┏━━━━━━━━━━━━━━━━━━━━━━━━━━━━━━━━━┳━━━━━━━━━━━━━━━━━━━━━━━━┳━━━━━━━━━━━━━━━┓\n",
       "┃<span style=\"font-weight: bold\"> Layer (type)                    </span>┃<span style=\"font-weight: bold\"> Output Shape           </span>┃<span style=\"font-weight: bold\">       Param # </span>┃\n",
       "┡━━━━━━━━━━━━━━━━━━━━━━━━━━━━━━━━━╇━━━━━━━━━━━━━━━━━━━━━━━━╇━━━━━━━━━━━━━━━┩\n",
       "│ input_layer (<span style=\"color: #0087ff; text-decoration-color: #0087ff\">InputLayer</span>)        │ (<span style=\"color: #00d7ff; text-decoration-color: #00d7ff\">None</span>, <span style=\"color: #00af00; text-decoration-color: #00af00\">28</span>, <span style=\"color: #00af00; text-decoration-color: #00af00\">28</span>, <span style=\"color: #00af00; text-decoration-color: #00af00\">1</span>)      │             <span style=\"color: #00af00; text-decoration-color: #00af00\">0</span> │\n",
       "├─────────────────────────────────┼────────────────────────┼───────────────┤\n",
       "│ conv2d (<span style=\"color: #0087ff; text-decoration-color: #0087ff\">Conv2D</span>)                 │ (<span style=\"color: #00d7ff; text-decoration-color: #00d7ff\">None</span>, <span style=\"color: #00af00; text-decoration-color: #00af00\">28</span>, <span style=\"color: #00af00; text-decoration-color: #00af00\">28</span>, <span style=\"color: #00af00; text-decoration-color: #00af00\">32</span>)     │           <span style=\"color: #00af00; text-decoration-color: #00af00\">320</span> │\n",
       "├─────────────────────────────────┼────────────────────────┼───────────────┤\n",
       "│ max_pooling2d (<span style=\"color: #0087ff; text-decoration-color: #0087ff\">MaxPooling2D</span>)    │ (<span style=\"color: #00d7ff; text-decoration-color: #00d7ff\">None</span>, <span style=\"color: #00af00; text-decoration-color: #00af00\">14</span>, <span style=\"color: #00af00; text-decoration-color: #00af00\">14</span>, <span style=\"color: #00af00; text-decoration-color: #00af00\">32</span>)     │             <span style=\"color: #00af00; text-decoration-color: #00af00\">0</span> │\n",
       "├─────────────────────────────────┼────────────────────────┼───────────────┤\n",
       "│ conv2d_1 (<span style=\"color: #0087ff; text-decoration-color: #0087ff\">Conv2D</span>)               │ (<span style=\"color: #00d7ff; text-decoration-color: #00d7ff\">None</span>, <span style=\"color: #00af00; text-decoration-color: #00af00\">14</span>, <span style=\"color: #00af00; text-decoration-color: #00af00\">14</span>, <span style=\"color: #00af00; text-decoration-color: #00af00\">64</span>)     │        <span style=\"color: #00af00; text-decoration-color: #00af00\">18,496</span> │\n",
       "├─────────────────────────────────┼────────────────────────┼───────────────┤\n",
       "│ max_pooling2d_1 (<span style=\"color: #0087ff; text-decoration-color: #0087ff\">MaxPooling2D</span>)  │ (<span style=\"color: #00d7ff; text-decoration-color: #00d7ff\">None</span>, <span style=\"color: #00af00; text-decoration-color: #00af00\">7</span>, <span style=\"color: #00af00; text-decoration-color: #00af00\">7</span>, <span style=\"color: #00af00; text-decoration-color: #00af00\">64</span>)       │             <span style=\"color: #00af00; text-decoration-color: #00af00\">0</span> │\n",
       "├─────────────────────────────────┼────────────────────────┼───────────────┤\n",
       "│ conv2d_2 (<span style=\"color: #0087ff; text-decoration-color: #0087ff\">Conv2D</span>)               │ (<span style=\"color: #00d7ff; text-decoration-color: #00d7ff\">None</span>, <span style=\"color: #00af00; text-decoration-color: #00af00\">7</span>, <span style=\"color: #00af00; text-decoration-color: #00af00\">7</span>, <span style=\"color: #00af00; text-decoration-color: #00af00\">64</span>)       │        <span style=\"color: #00af00; text-decoration-color: #00af00\">36,928</span> │\n",
       "├─────────────────────────────────┼────────────────────────┼───────────────┤\n",
       "│ up_sampling2d (<span style=\"color: #0087ff; text-decoration-color: #0087ff\">UpSampling2D</span>)    │ (<span style=\"color: #00d7ff; text-decoration-color: #00d7ff\">None</span>, <span style=\"color: #00af00; text-decoration-color: #00af00\">14</span>, <span style=\"color: #00af00; text-decoration-color: #00af00\">14</span>, <span style=\"color: #00af00; text-decoration-color: #00af00\">64</span>)     │             <span style=\"color: #00af00; text-decoration-color: #00af00\">0</span> │\n",
       "├─────────────────────────────────┼────────────────────────┼───────────────┤\n",
       "│ conv2d_3 (<span style=\"color: #0087ff; text-decoration-color: #0087ff\">Conv2D</span>)               │ (<span style=\"color: #00d7ff; text-decoration-color: #00d7ff\">None</span>, <span style=\"color: #00af00; text-decoration-color: #00af00\">14</span>, <span style=\"color: #00af00; text-decoration-color: #00af00\">14</span>, <span style=\"color: #00af00; text-decoration-color: #00af00\">32</span>)     │        <span style=\"color: #00af00; text-decoration-color: #00af00\">18,464</span> │\n",
       "├─────────────────────────────────┼────────────────────────┼───────────────┤\n",
       "│ up_sampling2d_1 (<span style=\"color: #0087ff; text-decoration-color: #0087ff\">UpSampling2D</span>)  │ (<span style=\"color: #00d7ff; text-decoration-color: #00d7ff\">None</span>, <span style=\"color: #00af00; text-decoration-color: #00af00\">28</span>, <span style=\"color: #00af00; text-decoration-color: #00af00\">28</span>, <span style=\"color: #00af00; text-decoration-color: #00af00\">32</span>)     │             <span style=\"color: #00af00; text-decoration-color: #00af00\">0</span> │\n",
       "├─────────────────────────────────┼────────────────────────┼───────────────┤\n",
       "│ conv2d_4 (<span style=\"color: #0087ff; text-decoration-color: #0087ff\">Conv2D</span>)               │ (<span style=\"color: #00d7ff; text-decoration-color: #00d7ff\">None</span>, <span style=\"color: #00af00; text-decoration-color: #00af00\">28</span>, <span style=\"color: #00af00; text-decoration-color: #00af00\">28</span>, <span style=\"color: #00af00; text-decoration-color: #00af00\">1</span>)      │           <span style=\"color: #00af00; text-decoration-color: #00af00\">289</span> │\n",
       "└─────────────────────────────────┴────────────────────────┴───────────────┘\n",
       "</pre>\n"
      ],
      "text/plain": [
       "┏━━━━━━━━━━━━━━━━━━━━━━━━━━━━━━━━━┳━━━━━━━━━━━━━━━━━━━━━━━━┳━━━━━━━━━━━━━━━┓\n",
       "┃\u001b[1m \u001b[0m\u001b[1mLayer (type)                   \u001b[0m\u001b[1m \u001b[0m┃\u001b[1m \u001b[0m\u001b[1mOutput Shape          \u001b[0m\u001b[1m \u001b[0m┃\u001b[1m \u001b[0m\u001b[1m      Param #\u001b[0m\u001b[1m \u001b[0m┃\n",
       "┡━━━━━━━━━━━━━━━━━━━━━━━━━━━━━━━━━╇━━━━━━━━━━━━━━━━━━━━━━━━╇━━━━━━━━━━━━━━━┩\n",
       "│ input_layer (\u001b[38;5;33mInputLayer\u001b[0m)        │ (\u001b[38;5;45mNone\u001b[0m, \u001b[38;5;34m28\u001b[0m, \u001b[38;5;34m28\u001b[0m, \u001b[38;5;34m1\u001b[0m)      │             \u001b[38;5;34m0\u001b[0m │\n",
       "├─────────────────────────────────┼────────────────────────┼───────────────┤\n",
       "│ conv2d (\u001b[38;5;33mConv2D\u001b[0m)                 │ (\u001b[38;5;45mNone\u001b[0m, \u001b[38;5;34m28\u001b[0m, \u001b[38;5;34m28\u001b[0m, \u001b[38;5;34m32\u001b[0m)     │           \u001b[38;5;34m320\u001b[0m │\n",
       "├─────────────────────────────────┼────────────────────────┼───────────────┤\n",
       "│ max_pooling2d (\u001b[38;5;33mMaxPooling2D\u001b[0m)    │ (\u001b[38;5;45mNone\u001b[0m, \u001b[38;5;34m14\u001b[0m, \u001b[38;5;34m14\u001b[0m, \u001b[38;5;34m32\u001b[0m)     │             \u001b[38;5;34m0\u001b[0m │\n",
       "├─────────────────────────────────┼────────────────────────┼───────────────┤\n",
       "│ conv2d_1 (\u001b[38;5;33mConv2D\u001b[0m)               │ (\u001b[38;5;45mNone\u001b[0m, \u001b[38;5;34m14\u001b[0m, \u001b[38;5;34m14\u001b[0m, \u001b[38;5;34m64\u001b[0m)     │        \u001b[38;5;34m18,496\u001b[0m │\n",
       "├─────────────────────────────────┼────────────────────────┼───────────────┤\n",
       "│ max_pooling2d_1 (\u001b[38;5;33mMaxPooling2D\u001b[0m)  │ (\u001b[38;5;45mNone\u001b[0m, \u001b[38;5;34m7\u001b[0m, \u001b[38;5;34m7\u001b[0m, \u001b[38;5;34m64\u001b[0m)       │             \u001b[38;5;34m0\u001b[0m │\n",
       "├─────────────────────────────────┼────────────────────────┼───────────────┤\n",
       "│ conv2d_2 (\u001b[38;5;33mConv2D\u001b[0m)               │ (\u001b[38;5;45mNone\u001b[0m, \u001b[38;5;34m7\u001b[0m, \u001b[38;5;34m7\u001b[0m, \u001b[38;5;34m64\u001b[0m)       │        \u001b[38;5;34m36,928\u001b[0m │\n",
       "├─────────────────────────────────┼────────────────────────┼───────────────┤\n",
       "│ up_sampling2d (\u001b[38;5;33mUpSampling2D\u001b[0m)    │ (\u001b[38;5;45mNone\u001b[0m, \u001b[38;5;34m14\u001b[0m, \u001b[38;5;34m14\u001b[0m, \u001b[38;5;34m64\u001b[0m)     │             \u001b[38;5;34m0\u001b[0m │\n",
       "├─────────────────────────────────┼────────────────────────┼───────────────┤\n",
       "│ conv2d_3 (\u001b[38;5;33mConv2D\u001b[0m)               │ (\u001b[38;5;45mNone\u001b[0m, \u001b[38;5;34m14\u001b[0m, \u001b[38;5;34m14\u001b[0m, \u001b[38;5;34m32\u001b[0m)     │        \u001b[38;5;34m18,464\u001b[0m │\n",
       "├─────────────────────────────────┼────────────────────────┼───────────────┤\n",
       "│ up_sampling2d_1 (\u001b[38;5;33mUpSampling2D\u001b[0m)  │ (\u001b[38;5;45mNone\u001b[0m, \u001b[38;5;34m28\u001b[0m, \u001b[38;5;34m28\u001b[0m, \u001b[38;5;34m32\u001b[0m)     │             \u001b[38;5;34m0\u001b[0m │\n",
       "├─────────────────────────────────┼────────────────────────┼───────────────┤\n",
       "│ conv2d_4 (\u001b[38;5;33mConv2D\u001b[0m)               │ (\u001b[38;5;45mNone\u001b[0m, \u001b[38;5;34m28\u001b[0m, \u001b[38;5;34m28\u001b[0m, \u001b[38;5;34m1\u001b[0m)      │           \u001b[38;5;34m289\u001b[0m │\n",
       "└─────────────────────────────────┴────────────────────────┴───────────────┘\n"
      ]
     },
     "metadata": {},
     "output_type": "display_data"
    },
    {
     "data": {
      "text/html": [
       "<pre style=\"white-space:pre;overflow-x:auto;line-height:normal;font-family:Menlo,'DejaVu Sans Mono',consolas,'Courier New',monospace\"><span style=\"font-weight: bold\"> Total params: </span><span style=\"color: #00af00; text-decoration-color: #00af00\">74,497</span> (291.00 KB)\n",
       "</pre>\n"
      ],
      "text/plain": [
       "\u001b[1m Total params: \u001b[0m\u001b[38;5;34m74,497\u001b[0m (291.00 KB)\n"
      ]
     },
     "metadata": {},
     "output_type": "display_data"
    },
    {
     "data": {
      "text/html": [
       "<pre style=\"white-space:pre;overflow-x:auto;line-height:normal;font-family:Menlo,'DejaVu Sans Mono',consolas,'Courier New',monospace\"><span style=\"font-weight: bold\"> Trainable params: </span><span style=\"color: #00af00; text-decoration-color: #00af00\">74,497</span> (291.00 KB)\n",
       "</pre>\n"
      ],
      "text/plain": [
       "\u001b[1m Trainable params: \u001b[0m\u001b[38;5;34m74,497\u001b[0m (291.00 KB)\n"
      ]
     },
     "metadata": {},
     "output_type": "display_data"
    },
    {
     "data": {
      "text/html": [
       "<pre style=\"white-space:pre;overflow-x:auto;line-height:normal;font-family:Menlo,'DejaVu Sans Mono',consolas,'Courier New',monospace\"><span style=\"font-weight: bold\"> Non-trainable params: </span><span style=\"color: #00af00; text-decoration-color: #00af00\">0</span> (0.00 B)\n",
       "</pre>\n"
      ],
      "text/plain": [
       "\u001b[1m Non-trainable params: \u001b[0m\u001b[38;5;34m0\u001b[0m (0.00 B)\n"
      ]
     },
     "metadata": {},
     "output_type": "display_data"
    }
   ],
   "source": [
    "input_img = Input(shape=(28, 28, 1))\n",
    "\n",
    "# Encoder\n",
    "x = Conv2D(32, (3, 3), activation='relu', padding='same')(input_img)\n",
    "x = MaxPooling2D((2, 2), padding='same')(x)\n",
    "x = Conv2D(64, (3, 3), activation='relu', padding='same')(x)\n",
    "encoded = MaxPooling2D((2, 2), padding='same')(x)\n",
    "\n",
    "# Decoder\n",
    "x = Conv2D(64, (3, 3), activation='relu', padding='same')(encoded)\n",
    "x = UpSampling2D((2, 2))(x)\n",
    "x = Conv2D(32, (3, 3), activation='relu', padding='same')(x)\n",
    "x = UpSampling2D((2, 2))(x)\n",
    "decoded = Conv2D(1, (3, 3), activation='sigmoid', padding='same')(x)\n",
    "\n",
    "# Autoencoder model\n",
    "autoencoder = Model(input_img, decoded)\n",
    "autoencoder.compile(optimizer='adam', loss='binary_crossentropy')\n",
    "\n",
    "# Print model summary\n",
    "autoencoder.summary()\n"
   ]
  },
  {
   "cell_type": "markdown",
   "id": "af5ea63e",
   "metadata": {
    "papermill": {
     "duration": 0.0076,
     "end_time": "2024-07-04T18:44:46.281217",
     "exception": false,
     "start_time": "2024-07-04T18:44:46.273617",
     "status": "completed"
    },
    "tags": []
   },
   "source": [
    "<div class=\"text_cell_render border-box-sizing rendered_html\">\n",
    "  <div style=\"color:black; border: 2px solid #ff6347; background-color:#ff6347; padding: 20px; border-radius: 15px; font-size: 200%; font-family: 'Arial', Tahoma, Geneva, Verdana, sans-serif; text-align:center; text-shadow: 2px 2px 4px rgba(0, 0, 0, 0.7); box-shadow: 0 4px 8px rgba(0, 0, 0, 0.4);\">\n",
    "   ✔ Model Training ✔\n",
    "  </div>\n",
    "</div>"
   ]
  },
  {
   "cell_type": "code",
   "execution_count": 8,
   "id": "bc8b4c4f",
   "metadata": {
    "execution": {
     "iopub.execute_input": "2024-07-04T18:44:46.298331Z",
     "iopub.status.busy": "2024-07-04T18:44:46.297958Z",
     "iopub.status.idle": "2024-07-04T18:45:09.638497Z",
     "shell.execute_reply": "2024-07-04T18:45:09.637540Z"
    },
    "papermill": {
     "duration": 23.351494,
     "end_time": "2024-07-04T18:45:09.640617",
     "exception": false,
     "start_time": "2024-07-04T18:44:46.289123",
     "status": "completed"
    },
    "tags": []
   },
   "outputs": [
    {
     "name": "stdout",
     "output_type": "stream",
     "text": [
      "Epoch 1/50\n",
      "\u001b[1m18/22\u001b[0m \u001b[32m━━━━━━━━━━━━━━━━\u001b[0m\u001b[37m━━━━\u001b[0m \u001b[1m0s\u001b[0m 9ms/step - loss: 0.5685 "
     ]
    },
    {
     "name": "stderr",
     "output_type": "stream",
     "text": [
      "WARNING: All log messages before absl::InitializeLog() is called are written to STDERR\n",
      "I0000 00:00:1720118693.800658      72 device_compiler.h:186] Compiled cluster using XLA!  This line is logged at most once for the lifetime of the process.\n"
     ]
    },
    {
     "name": "stdout",
     "output_type": "stream",
     "text": [
      "\u001b[1m22/22\u001b[0m \u001b[32m━━━━━━━━━━━━━━━━━━━━\u001b[0m\u001b[37m\u001b[0m \u001b[1m11s\u001b[0m 185ms/step - loss: 0.5373 - val_loss: 0.1420\n",
      "Epoch 2/50\n",
      "\u001b[1m22/22\u001b[0m \u001b[32m━━━━━━━━━━━━━━━━━━━━\u001b[0m\u001b[37m\u001b[0m \u001b[1m0s\u001b[0m 10ms/step - loss: 0.1055 - val_loss: 0.0591\n",
      "Epoch 3/50\n",
      "\u001b[1m22/22\u001b[0m \u001b[32m━━━━━━━━━━━━━━━━━━━━\u001b[0m\u001b[37m\u001b[0m \u001b[1m0s\u001b[0m 10ms/step - loss: 0.0576 - val_loss: 0.0507\n",
      "Epoch 4/50\n",
      "\u001b[1m22/22\u001b[0m \u001b[32m━━━━━━━━━━━━━━━━━━━━\u001b[0m\u001b[37m\u001b[0m \u001b[1m0s\u001b[0m 10ms/step - loss: 0.0511 - val_loss: 0.0477\n",
      "Epoch 5/50\n",
      "\u001b[1m22/22\u001b[0m \u001b[32m━━━━━━━━━━━━━━━━━━━━\u001b[0m\u001b[37m\u001b[0m \u001b[1m0s\u001b[0m 10ms/step - loss: 0.0479 - val_loss: 0.0455\n",
      "Epoch 6/50\n",
      "\u001b[1m22/22\u001b[0m \u001b[32m━━━━━━━━━━━━━━━━━━━━\u001b[0m\u001b[37m\u001b[0m \u001b[1m0s\u001b[0m 10ms/step - loss: 0.0457 - val_loss: 0.0447\n",
      "Epoch 7/50\n",
      "\u001b[1m22/22\u001b[0m \u001b[32m━━━━━━━━━━━━━━━━━━━━\u001b[0m\u001b[37m\u001b[0m \u001b[1m0s\u001b[0m 10ms/step - loss: 0.0450 - val_loss: 0.0431\n",
      "Epoch 8/50\n",
      "\u001b[1m22/22\u001b[0m \u001b[32m━━━━━━━━━━━━━━━━━━━━\u001b[0m\u001b[37m\u001b[0m \u001b[1m0s\u001b[0m 10ms/step - loss: 0.0436 - val_loss: 0.0419\n",
      "Epoch 9/50\n",
      "\u001b[1m22/22\u001b[0m \u001b[32m━━━━━━━━━━━━━━━━━━━━\u001b[0m\u001b[37m\u001b[0m \u001b[1m0s\u001b[0m 10ms/step - loss: 0.0427 - val_loss: 0.0415\n",
      "Epoch 10/50\n",
      "\u001b[1m22/22\u001b[0m \u001b[32m━━━━━━━━━━━━━━━━━━━━\u001b[0m\u001b[37m\u001b[0m \u001b[1m0s\u001b[0m 10ms/step - loss: 0.0420 - val_loss: 0.0408\n",
      "Epoch 11/50\n",
      "\u001b[1m22/22\u001b[0m \u001b[32m━━━━━━━━━━━━━━━━━━━━\u001b[0m\u001b[37m\u001b[0m \u001b[1m0s\u001b[0m 10ms/step - loss: 0.0413 - val_loss: 0.0404\n",
      "Epoch 12/50\n",
      "\u001b[1m22/22\u001b[0m \u001b[32m━━━━━━━━━━━━━━━━━━━━\u001b[0m\u001b[37m\u001b[0m \u001b[1m0s\u001b[0m 10ms/step - loss: 0.0410 - val_loss: 0.0400\n",
      "Epoch 13/50\n",
      "\u001b[1m22/22\u001b[0m \u001b[32m━━━━━━━━━━━━━━━━━━━━\u001b[0m\u001b[37m\u001b[0m \u001b[1m0s\u001b[0m 10ms/step - loss: 0.0407 - val_loss: 0.0398\n",
      "Epoch 14/50\n",
      "\u001b[1m22/22\u001b[0m \u001b[32m━━━━━━━━━━━━━━━━━━━━\u001b[0m\u001b[37m\u001b[0m \u001b[1m0s\u001b[0m 10ms/step - loss: 0.0404 - val_loss: 0.0396\n",
      "Epoch 15/50\n",
      "\u001b[1m22/22\u001b[0m \u001b[32m━━━━━━━━━━━━━━━━━━━━\u001b[0m\u001b[37m\u001b[0m \u001b[1m0s\u001b[0m 10ms/step - loss: 0.0402 - val_loss: 0.0397\n",
      "Epoch 16/50\n",
      "\u001b[1m22/22\u001b[0m \u001b[32m━━━━━━━━━━━━━━━━━━━━\u001b[0m\u001b[37m\u001b[0m \u001b[1m0s\u001b[0m 10ms/step - loss: 0.0401 - val_loss: 0.0392\n",
      "Epoch 17/50\n",
      "\u001b[1m22/22\u001b[0m \u001b[32m━━━━━━━━━━━━━━━━━━━━\u001b[0m\u001b[37m\u001b[0m \u001b[1m0s\u001b[0m 10ms/step - loss: 0.0401 - val_loss: 0.0391\n",
      "Epoch 18/50\n",
      "\u001b[1m22/22\u001b[0m \u001b[32m━━━━━━━━━━━━━━━━━━━━\u001b[0m\u001b[37m\u001b[0m \u001b[1m0s\u001b[0m 11ms/step - loss: 0.0394 - val_loss: 0.0388\n",
      "Epoch 19/50\n",
      "\u001b[1m22/22\u001b[0m \u001b[32m━━━━━━━━━━━━━━━━━━━━\u001b[0m\u001b[37m\u001b[0m \u001b[1m0s\u001b[0m 10ms/step - loss: 0.0392 - val_loss: 0.0387\n",
      "Epoch 20/50\n",
      "\u001b[1m22/22\u001b[0m \u001b[32m━━━━━━━━━━━━━━━━━━━━\u001b[0m\u001b[37m\u001b[0m \u001b[1m0s\u001b[0m 10ms/step - loss: 0.0393 - val_loss: 0.0386\n",
      "Epoch 21/50\n",
      "\u001b[1m22/22\u001b[0m \u001b[32m━━━━━━━━━━━━━━━━━━━━\u001b[0m\u001b[37m\u001b[0m \u001b[1m0s\u001b[0m 10ms/step - loss: 0.0393 - val_loss: 0.0385\n",
      "Epoch 22/50\n",
      "\u001b[1m22/22\u001b[0m \u001b[32m━━━━━━━━━━━━━━━━━━━━\u001b[0m\u001b[37m\u001b[0m \u001b[1m0s\u001b[0m 10ms/step - loss: 0.0393 - val_loss: 0.0385\n",
      "Epoch 23/50\n",
      "\u001b[1m22/22\u001b[0m \u001b[32m━━━━━━━━━━━━━━━━━━━━\u001b[0m\u001b[37m\u001b[0m \u001b[1m0s\u001b[0m 10ms/step - loss: 0.0392 - val_loss: 0.0383\n",
      "Epoch 24/50\n",
      "\u001b[1m22/22\u001b[0m \u001b[32m━━━━━━━━━━━━━━━━━━━━\u001b[0m\u001b[37m\u001b[0m \u001b[1m0s\u001b[0m 10ms/step - loss: 0.0389 - val_loss: 0.0381\n",
      "Epoch 25/50\n",
      "\u001b[1m22/22\u001b[0m \u001b[32m━━━━━━━━━━━━━━━━━━━━\u001b[0m\u001b[37m\u001b[0m \u001b[1m0s\u001b[0m 10ms/step - loss: 0.0386 - val_loss: 0.0381\n",
      "Epoch 26/50\n",
      "\u001b[1m22/22\u001b[0m \u001b[32m━━━━━━━━━━━━━━━━━━━━\u001b[0m\u001b[37m\u001b[0m \u001b[1m0s\u001b[0m 10ms/step - loss: 0.0388 - val_loss: 0.0382\n",
      "Epoch 27/50\n",
      "\u001b[1m22/22\u001b[0m \u001b[32m━━━━━━━━━━━━━━━━━━━━\u001b[0m\u001b[37m\u001b[0m \u001b[1m0s\u001b[0m 10ms/step - loss: 0.0388 - val_loss: 0.0379\n",
      "Epoch 28/50\n",
      "\u001b[1m22/22\u001b[0m \u001b[32m━━━━━━━━━━━━━━━━━━━━\u001b[0m\u001b[37m\u001b[0m \u001b[1m0s\u001b[0m 10ms/step - loss: 0.0385 - val_loss: 0.0378\n",
      "Epoch 29/50\n",
      "\u001b[1m22/22\u001b[0m \u001b[32m━━━━━━━━━━━━━━━━━━━━\u001b[0m\u001b[37m\u001b[0m \u001b[1m0s\u001b[0m 10ms/step - loss: 0.0384 - val_loss: 0.0378\n",
      "Epoch 30/50\n",
      "\u001b[1m22/22\u001b[0m \u001b[32m━━━━━━━━━━━━━━━━━━━━\u001b[0m\u001b[37m\u001b[0m \u001b[1m0s\u001b[0m 10ms/step - loss: 0.0383 - val_loss: 0.0377\n",
      "Epoch 31/50\n",
      "\u001b[1m22/22\u001b[0m \u001b[32m━━━━━━━━━━━━━━━━━━━━\u001b[0m\u001b[37m\u001b[0m \u001b[1m0s\u001b[0m 10ms/step - loss: 0.0382 - val_loss: 0.0376\n",
      "Epoch 32/50\n",
      "\u001b[1m22/22\u001b[0m \u001b[32m━━━━━━━━━━━━━━━━━━━━\u001b[0m\u001b[37m\u001b[0m \u001b[1m0s\u001b[0m 10ms/step - loss: 0.0383 - val_loss: 0.0376\n",
      "Epoch 33/50\n",
      "\u001b[1m22/22\u001b[0m \u001b[32m━━━━━━━━━━━━━━━━━━━━\u001b[0m\u001b[37m\u001b[0m \u001b[1m0s\u001b[0m 10ms/step - loss: 0.0382 - val_loss: 0.0375\n",
      "Epoch 34/50\n",
      "\u001b[1m22/22\u001b[0m \u001b[32m━━━━━━━━━━━━━━━━━━━━\u001b[0m\u001b[37m\u001b[0m \u001b[1m0s\u001b[0m 10ms/step - loss: 0.0382 - val_loss: 0.0375\n",
      "Epoch 35/50\n",
      "\u001b[1m22/22\u001b[0m \u001b[32m━━━━━━━━━━━━━━━━━━━━\u001b[0m\u001b[37m\u001b[0m \u001b[1m0s\u001b[0m 10ms/step - loss: 0.0380 - val_loss: 0.0375\n",
      "Epoch 36/50\n",
      "\u001b[1m22/22\u001b[0m \u001b[32m━━━━━━━━━━━━━━━━━━━━\u001b[0m\u001b[37m\u001b[0m \u001b[1m0s\u001b[0m 10ms/step - loss: 0.0380 - val_loss: 0.0374\n",
      "Epoch 37/50\n",
      "\u001b[1m22/22\u001b[0m \u001b[32m━━━━━━━━━━━━━━━━━━━━\u001b[0m\u001b[37m\u001b[0m \u001b[1m0s\u001b[0m 10ms/step - loss: 0.0381 - val_loss: 0.0374\n",
      "Epoch 38/50\n",
      "\u001b[1m22/22\u001b[0m \u001b[32m━━━━━━━━━━━━━━━━━━━━\u001b[0m\u001b[37m\u001b[0m \u001b[1m0s\u001b[0m 10ms/step - loss: 0.0381 - val_loss: 0.0373\n",
      "Epoch 39/50\n",
      "\u001b[1m22/22\u001b[0m \u001b[32m━━━━━━━━━━━━━━━━━━━━\u001b[0m\u001b[37m\u001b[0m \u001b[1m0s\u001b[0m 10ms/step - loss: 0.0380 - val_loss: 0.0372\n",
      "Epoch 40/50\n",
      "\u001b[1m22/22\u001b[0m \u001b[32m━━━━━━━━━━━━━━━━━━━━\u001b[0m\u001b[37m\u001b[0m \u001b[1m0s\u001b[0m 10ms/step - loss: 0.0379 - val_loss: 0.0372\n",
      "Epoch 41/50\n",
      "\u001b[1m22/22\u001b[0m \u001b[32m━━━━━━━━━━━━━━━━━━━━\u001b[0m\u001b[37m\u001b[0m \u001b[1m0s\u001b[0m 10ms/step - loss: 0.0380 - val_loss: 0.0372\n",
      "Epoch 42/50\n",
      "\u001b[1m22/22\u001b[0m \u001b[32m━━━━━━━━━━━━━━━━━━━━\u001b[0m\u001b[37m\u001b[0m \u001b[1m0s\u001b[0m 10ms/step - loss: 0.0377 - val_loss: 0.0372\n",
      "Epoch 43/50\n",
      "\u001b[1m22/22\u001b[0m \u001b[32m━━━━━━━━━━━━━━━━━━━━\u001b[0m\u001b[37m\u001b[0m \u001b[1m0s\u001b[0m 10ms/step - loss: 0.0378 - val_loss: 0.0372\n",
      "Epoch 44/50\n",
      "\u001b[1m22/22\u001b[0m \u001b[32m━━━━━━━━━━━━━━━━━━━━\u001b[0m\u001b[37m\u001b[0m \u001b[1m0s\u001b[0m 10ms/step - loss: 0.0375 - val_loss: 0.0371\n",
      "Epoch 45/50\n",
      "\u001b[1m22/22\u001b[0m \u001b[32m━━━━━━━━━━━━━━━━━━━━\u001b[0m\u001b[37m\u001b[0m \u001b[1m0s\u001b[0m 10ms/step - loss: 0.0378 - val_loss: 0.0370\n",
      "Epoch 46/50\n",
      "\u001b[1m22/22\u001b[0m \u001b[32m━━━━━━━━━━━━━━━━━━━━\u001b[0m\u001b[37m\u001b[0m \u001b[1m0s\u001b[0m 10ms/step - loss: 0.0376 - val_loss: 0.0370\n",
      "Epoch 47/50\n",
      "\u001b[1m22/22\u001b[0m \u001b[32m━━━━━━━━━━━━━━━━━━━━\u001b[0m\u001b[37m\u001b[0m \u001b[1m0s\u001b[0m 10ms/step - loss: 0.0376 - val_loss: 0.0370\n",
      "Epoch 48/50\n",
      "\u001b[1m22/22\u001b[0m \u001b[32m━━━━━━━━━━━━━━━━━━━━\u001b[0m\u001b[37m\u001b[0m \u001b[1m0s\u001b[0m 10ms/step - loss: 0.0375 - val_loss: 0.0372\n",
      "Epoch 49/50\n",
      "\u001b[1m22/22\u001b[0m \u001b[32m━━━━━━━━━━━━━━━━━━━━\u001b[0m\u001b[37m\u001b[0m \u001b[1m0s\u001b[0m 10ms/step - loss: 0.0384 - val_loss: 0.0370\n",
      "Epoch 50/50\n",
      "\u001b[1m22/22\u001b[0m \u001b[32m━━━━━━━━━━━━━━━━━━━━\u001b[0m\u001b[37m\u001b[0m \u001b[1m0s\u001b[0m 10ms/step - loss: 0.0376 - val_loss: 0.0369\n"
     ]
    },
    {
     "data": {
      "text/plain": [
       "<keras.src.callbacks.history.History at 0x7ab5cc286680>"
      ]
     },
     "execution_count": 8,
     "metadata": {},
     "output_type": "execute_result"
    }
   ],
   "source": [
    "autoencoder.fit(x_train, x_train,\n",
    "                epochs=50,\n",
    "                batch_size=256,\n",
    "                shuffle=True,\n",
    "                validation_split=0.2)"
   ]
  },
  {
   "cell_type": "code",
   "execution_count": 9,
   "id": "8fe3c1d6",
   "metadata": {
    "execution": {
     "iopub.execute_input": "2024-07-04T18:45:09.706047Z",
     "iopub.status.busy": "2024-07-04T18:45:09.705293Z",
     "iopub.status.idle": "2024-07-04T18:45:11.671907Z",
     "shell.execute_reply": "2024-07-04T18:45:11.670925Z"
    },
    "papermill": {
     "duration": 2.001113,
     "end_time": "2024-07-04T18:45:11.674246",
     "exception": false,
     "start_time": "2024-07-04T18:45:09.673133",
     "status": "completed"
    },
    "tags": []
   },
   "outputs": [
    {
     "name": "stdout",
     "output_type": "stream",
     "text": [
      "\u001b[1m67/67\u001b[0m \u001b[32m━━━━━━━━━━━━━━━━━━━━\u001b[0m\u001b[37m\u001b[0m \u001b[1m2s\u001b[0m 14ms/step\n"
     ]
    }
   ],
   "source": [
    "reconstructed = autoencoder.predict(anomalous_data)\n",
    "reconstruction_error = np.mean(np.square(anomalous_data - reconstructed), axis=(1, 2, 3))"
   ]
  },
  {
   "cell_type": "code",
   "execution_count": 10,
   "id": "c0e4c7c7",
   "metadata": {
    "execution": {
     "iopub.execute_input": "2024-07-04T18:45:11.746662Z",
     "iopub.status.busy": "2024-07-04T18:45:11.746025Z",
     "iopub.status.idle": "2024-07-04T18:45:11.752120Z",
     "shell.execute_reply": "2024-07-04T18:45:11.751271Z"
    },
    "papermill": {
     "duration": 0.046035,
     "end_time": "2024-07-04T18:45:11.754349",
     "exception": false,
     "start_time": "2024-07-04T18:45:11.708314",
     "status": "completed"
    },
    "tags": []
   },
   "outputs": [],
   "source": [
    "# Set a threshold for anomaly detection\n",
    "threshold = np.mean(reconstruction_error) + 2 * np.std(reconstruction_error)\n",
    "\n",
    "# Identify anomalies\n",
    "anomalies = reconstruction_error > threshold"
   ]
  },
  {
   "cell_type": "markdown",
   "id": "59537077",
   "metadata": {
    "papermill": {
     "duration": 0.035895,
     "end_time": "2024-07-04T18:45:11.826202",
     "exception": false,
     "start_time": "2024-07-04T18:45:11.790307",
     "status": "completed"
    },
    "tags": []
   },
   "source": [
    "<div class=\"text_cell_render border-box-sizing rendered_html\">\n",
    "<div style=\"color:black; border: 2px solid #6f42c1; background-color:#f3e8ff; padding: 20px; border-radius: 15px; font-size: 200%; font-family: 'Segoe UI', Tahoma, Geneva, Verdana, sans-serif; text-align:center; text-shadow: 2px 2px 4px rgba(0, 0, 0, 0.7);\">🔥 Anomaly-Detection AutoEncoder Random Prediction🔥</div>\n",
    "</div>"
   ]
  },
  {
   "cell_type": "code",
   "execution_count": 11,
   "id": "adf339f6",
   "metadata": {
    "execution": {
     "iopub.execute_input": "2024-07-04T18:45:11.914294Z",
     "iopub.status.busy": "2024-07-04T18:45:11.913593Z",
     "iopub.status.idle": "2024-07-04T18:45:13.745443Z",
     "shell.execute_reply": "2024-07-04T18:45:13.744377Z"
    },
    "papermill": {
     "duration": 1.880442,
     "end_time": "2024-07-04T18:45:13.747982",
     "exception": false,
     "start_time": "2024-07-04T18:45:11.867540",
     "status": "completed"
    },
    "tags": []
   },
   "outputs": [
    {
     "data": {
      "image/png": "[encoded data removed]",
      "text/plain": [
       "<Figure size 1500x700 with 15 Axes>"
      ]
     },
     "metadata": {},
     "output_type": "display_data"
    }
   ],
   "source": [
    "import matplotlib.pyplot as plt\n",
    "\n",
    "# Select random indices to display\n",
    "random_indices = [10, 1, 2, 24, 48]  # Replace with your random indices\n",
    "\n",
    "plt.figure(figsize=(15, 7))\n",
    "\n",
    "for idx, i in enumerate(random_indices):\n",
    "    # Original image\n",
    "    ax = plt.subplot(3, 5, idx + 1)\n",
    "    plt.imshow(anomalous_data[i].reshape(28, 28), cmap='gray')\n",
    "    ax.set_title('Original', fontsize=12)\n",
    "    ax.axis('off')\n",
    "    \n",
    "    # Reconstructed image\n",
    "    ax = plt.subplot(3, 5, idx + 6)\n",
    "    plt.imshow(reconstructed[i].reshape(28, 28), cmap='gray')\n",
    "    ax.set_title('Reconstructed', fontsize=12)\n",
    "    ax.axis('off')\n",
    "\n",
    "    # Anomaly score\n",
    "    ax = plt.subplot(3, 5, idx + 11)\n",
    "    bars = ax.bar(['Reconstruction Error', 'Threshold'], [reconstruction_error[i], threshold], color=['blue', 'red'])\n",
    "    ax.set_ylim(0, 1)  # Adjust y-axis limit based on your data range\n",
    "    ax.set_title('Anomaly Score', fontsize=12)\n",
    "    ax.tick_params(axis='x', labelrotation=45)\n",
    "    \n",
    "    # Add labels to bars\n",
    "    for bar in bars:\n",
    "        yval = bar.get_height()\n",
    "        ax.text(bar.get_x() + bar.get_width()/2, yval + 0.05, round(yval, 2), ha='center', va='bottom', fontsize=10)\n",
    "\n",
    "plt.tight_layout()\n",
    "plt.show()\n"
   ]
  },
  {
   "cell_type": "code",
   "execution_count": 12,
   "id": "192db0c3",
   "metadata": {
    "execution": {
     "iopub.execute_input": "2024-07-04T18:45:13.816611Z",
     "iopub.status.busy": "2024-07-04T18:45:13.816305Z",
     "iopub.status.idle": "2024-07-04T18:45:13.821988Z",
     "shell.execute_reply": "2024-07-04T18:45:13.821077Z"
    },
    "papermill": {
     "duration": 0.041481,
     "end_time": "2024-07-04T18:45:13.824079",
     "exception": false,
     "start_time": "2024-07-04T18:45:13.782598",
     "status": "completed"
    },
    "tags": []
   },
   "outputs": [
    {
     "name": "stdout",
     "output_type": "stream",
     "text": [
      "Number of anomalies detected:  0\n",
      "Anomaly detection accuracy:  0.531615925058548\n"
     ]
    }
   ],
   "source": [
    "print(\"Number of anomalies detected: \", np.sum(anomalies))\n",
    "print(\"Anomaly detection accuracy: \", np.mean(anomalies == anomalous_labels))"
   ]
  }
 ],
 "metadata": {
  "kaggle": {
   "accelerator": "nvidiaTeslaT4",
   "dataSources": [],
   "dockerImageVersionId": 30733,
   "isGpuEnabled": true,
   "isInternetEnabled": true,
   "language": "python",
   "sourceType": "notebook"
  },
  "kernelspec": {
   "display_name": "Python 3",
   "language": "python",
   "name": "python3"
  },
  "language_info": {
   "codemirror_mode": {
    "name": "ipython",
    "version": 3
   },
   "file_extension": ".py",
   "mimetype": "text/x-python",
   "name": "python",
   "nbconvert_exporter": "python",
   "pygments_lexer": "ipython3",
   "version": "3.10.13"
  },
  "papermill": {
   "default_parameters": {},
   "duration": 50.421884,
   "end_time": "2024-07-04T18:45:16.400194",
   "environment_variables": {},
   "exception": null,
   "input_path": "__notebook__.ipynb",
   "output_path": "__notebook__.ipynb",
   "parameters": {},
   "start_time": "2024-07-04T18:44:25.978310",
   "version": "2.5.0"
  }
 },
 "nbformat": 4,
 "nbformat_minor": 5
}
